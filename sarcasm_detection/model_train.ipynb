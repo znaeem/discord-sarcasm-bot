{
 "cells": [
  {
   "cell_type": "code",
   "execution_count": 1,
   "metadata": {
    "collapsed": true
   },
   "outputs": [],
   "source": [
    "import os\n",
    "from dotenv import load_dotenv\n",
    "\n",
    "load_dotenv()\n",
    "\n",
    "DATA_DIRECTORY = os.getenv('DATA_DIRECTORY')\n",
    "DATA_PATH = os.path.join(DATA_DIRECTORY, 'data.csv')"
   ]
  },
  {
   "cell_type": "code",
   "execution_count": 2,
   "outputs": [],
   "source": [
    "import csv\n",
    "import numpy as np\n",
    "\n",
    "sentences = []\n",
    "labels = []\n",
    "\n",
    "file = open(DATA_PATH, 'r', encoding='utf-8')\n",
    "csvreader = csv.reader(file)\n",
    "_ = next(csvreader)\n",
    "for row in csvreader:\n",
    "    sentences.append(row[0])\n",
    "    labels.append(int(row[1]))\n",
    "file.close()\n",
    "\n",
    "features, targets = np.array(sentences), np.array(labels)"
   ],
   "metadata": {
    "collapsed": false,
    "pycharm": {
     "name": "#%%\n"
    }
   }
  },
  {
   "cell_type": "code",
   "execution_count": null,
   "outputs": [],
   "source": [
    "from sklearn.model_selection import train_test_split\n",
    "\n",
    "train_features, test_features, train_targets, test_targets = train_test_split(\n",
    "        features, targets,\n",
    "        train_size=0.8,\n",
    "        test_size=0.2,\n",
    "        random_state=42,\n",
    "        shuffle = True,\n",
    "        stratify=targets\n",
    ")\n",
    "\n",
    "print(f'training samples size: {len(train_features)}'\n",
    "    f'\\ntesting samples size: {len(test_features)}')"
   ],
   "metadata": {
    "collapsed": false,
    "pycharm": {
     "name": "#%%\n",
     "is_executing": true
    }
   }
  },
  {
   "cell_type": "code",
   "execution_count": null,
   "outputs": [],
   "source": [
    "import tensorflow as tf\n",
    "\n",
    "vocab_size = 50000\n",
    "embedding_dim = 32\n",
    "max_length = 200\n",
    "\n",
    "print('Num GPUs Available: ', len(tf.config.list_physical_devices('GPU')))"
   ],
   "metadata": {
    "collapsed": false,
    "pycharm": {
     "name": "#%%\n",
     "is_executing": true
    }
   }
  },
  {
   "cell_type": "code",
   "execution_count": 5,
   "outputs": [],
   "source": [
    "vectorize_layer = tf.keras.layers.TextVectorization(\n",
    "    max_tokens=vocab_size+2,\n",
    "    output_mode='int',\n",
    "    output_sequence_length=max_length,\n",
    ")\n",
    "vectorize_layer.adapt(train_features)"
   ],
   "metadata": {
    "collapsed": false,
    "pycharm": {
     "name": "#%%\n"
    }
   }
  },
  {
   "cell_type": "code",
   "execution_count": null,
   "outputs": [],
   "source": [
    "model = tf.keras.Sequential([\n",
    "    vectorize_layer,\n",
    "    tf.keras.layers.Embedding(vocab_size, embedding_dim, input_length=max_length),\n",
    "    tf.keras.layers.SpatialDropout1D(0.4),\n",
    "    tf.keras.layers.Bidirectional(\n",
    "        tf.keras.layers.LSTM(units=128, dropout=0.2, return_sequences=True)\n",
    "    ),\n",
    "    tf.keras.layers.GlobalMaxPool1D(),\n",
    "    tf.keras.layers.Dense(units=32, activation='relu'),\n",
    "    tf.keras.layers.Dropout(0.5),\n",
    "    tf.keras.layers.Dense(units=16, activation='relu'),\n",
    "    tf.keras.layers.Dropout(0.5),\n",
    "    tf.keras.layers.Dense(units=1, activation='sigmoid')\n",
    "])\n",
    "model.compile(loss='binary_crossentropy', optimizer='adam', metrics=['accuracy'])\n",
    "model.summary()"
   ],
   "metadata": {
    "collapsed": false,
    "pycharm": {
     "name": "#%%\n",
     "is_executing": true
    }
   }
  },
  {
   "cell_type": "code",
   "execution_count": null,
   "outputs": [],
   "source": [
    "num_epochs = 25\n",
    "batch_size = 64\n",
    "\n",
    "callback = tf.keras.callbacks.EarlyStopping(monitor='val_accuracy', patience=3)\n",
    "history = model.fit(\n",
    "    x=train_features, y=train_targets,\n",
    "    epochs=num_epochs, batch_size=batch_size,\n",
    "    validation_data=(test_features, test_targets),\n",
    "    callbacks=[callback], verbose=1\n",
    ")\n",
    "\n",
    "version = 1\n",
    "MODEL_DIRECTORY = os.getenv('MODEL_DIRECTORY')\n",
    "export_path = os.path.join(MODEL_DIRECTORY, 'sarcasm_model', str(version))\n",
    "model.save(export_path)"
   ],
   "metadata": {
    "collapsed": false,
    "pycharm": {
     "name": "#%%\n",
     "is_executing": true
    }
   }
  },
  {
   "cell_type": "code",
   "execution_count": null,
   "outputs": [],
   "source": [
    "import matplotlib.pyplot as plt\n",
    "\n",
    "def plot_graphs(history, string):\n",
    "    plt.plot(history.history[string])\n",
    "    plt.plot(history.history['val_'+string])\n",
    "    plt.xlabel(\"Epochs\")\n",
    "    plt.ylabel(string)\n",
    "    plt.legend([string, 'val_'+string])\n",
    "    plt.show()\n",
    "\n",
    "plot_graphs(history, \"accuracy\")\n",
    "plot_graphs(history, \"loss\")"
   ],
   "metadata": {
    "collapsed": false,
    "pycharm": {
     "name": "#%%\n",
     "is_executing": true
    }
   }
  },
  {
   "cell_type": "code",
   "execution_count": null,
   "outputs": [],
   "source": [
    "from sklearn.metrics import confusion_matrix, accuracy_score\n",
    "\n",
    "probs = model.predict(test_features)\n",
    "pred = np.where(probs > 0.8, 1,0)\n",
    "cm = confusion_matrix(test_targets, pred)\n",
    "print(accuracy_score(test_targets, pred))"
   ],
   "metadata": {
    "collapsed": false,
    "pycharm": {
     "name": "#%%\n",
     "is_executing": true
    }
   }
  },
  {
   "cell_type": "code",
   "execution_count": null,
   "outputs": [],
   "source": [
    "import pandas as pd\n",
    "import seaborn as sns\n",
    "\n",
    "cm = pd.DataFrame(\n",
    "    data=cm,\n",
    "    index=['Not Sarcastic','Sarcastic'],\n",
    "    columns=['Not Sarcastic','Sarcastic']\n",
    ")\n",
    "plt.figure(figsize = (10,10))\n",
    "sns.heatmap(\n",
    "    data=cm, cmap=\"Blues\", linecolor='black',\n",
    "    linewidth=1, annot=True, fmt='',\n",
    "    xticklabels = ['Not Sarcastic','Sarcastic'],\n",
    "    yticklabels = ['Not Sarcastic','Sarcastic']\n",
    ")"
   ],
   "metadata": {
    "collapsed": false,
    "pycharm": {
     "name": "#%%\n",
     "is_executing": true
    }
   }
  },
  {
   "cell_type": "code",
   "execution_count": null,
   "outputs": [],
   "source": [],
   "metadata": {
    "collapsed": false,
    "pycharm": {
     "name": "#%%\n"
    }
   }
  }
 ],
 "metadata": {
  "kernelspec": {
   "display_name": "Python 3",
   "language": "python",
   "name": "python3"
  },
  "language_info": {
   "codemirror_mode": {
    "name": "ipython",
    "version": 2
   },
   "file_extension": ".py",
   "mimetype": "text/x-python",
   "name": "python",
   "nbconvert_exporter": "python",
   "pygments_lexer": "ipython2",
   "version": "2.7.6"
  }
 },
 "nbformat": 4,
 "nbformat_minor": 0
}