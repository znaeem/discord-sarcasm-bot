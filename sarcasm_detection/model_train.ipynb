{
 "cells": [
  {
   "cell_type": "code",
   "execution_count": 1,
   "metadata": {
    "collapsed": true,
    "pycharm": {
     "name": "#%%\n"
    }
   },
   "outputs": [],
   "source": [
    "import os\n",
    "from dotenv import load_dotenv\n",
    "\n",
    "load_dotenv()\n",
    "\n",
    "DATA_DIRECTORY = os.getenv('DATA_DIRECTORY')\n",
    "DATA_PATH = os.path.join(DATA_DIRECTORY, 'data.csv')"
   ]
  },
  {
   "cell_type": "code",
   "execution_count": 2,
   "outputs": [],
   "source": [
    "import csv\n",
    "import numpy as np\n",
    "\n",
    "sentences = []\n",
    "labels = []\n",
    "\n",
    "file = open(DATA_PATH, 'r', encoding='utf-8')\n",
    "csvreader = csv.reader(file)\n",
    "_ = next(csvreader)\n",
    "for row in csvreader:\n",
    "    sentences.append(row[0])\n",
    "    labels.append(int(row[1]))\n",
    "file.close()\n",
    "\n",
    "features, targets = np.array(sentences), np.array(labels)"
   ],
   "metadata": {
    "collapsed": false,
    "pycharm": {
     "name": "#%%\n"
    }
   }
  },
  {
   "cell_type": "code",
   "execution_count": 3,
   "outputs": [
    {
     "name": "stdout",
     "output_type": "stream",
     "text": [
      "training samples size: 852923\n",
      "testing samples size: 213231\n"
     ]
    }
   ],
   "source": [
    "from sklearn.model_selection import train_test_split\n",
    "\n",
    "train_features, test_features, train_targets, test_targets = train_test_split(\n",
    "        features, targets,\n",
    "        train_size=0.8,\n",
    "        test_size=0.2,\n",
    "        random_state=42,\n",
    "        shuffle=True,\n",
    "        stratify=targets\n",
    ")\n",
    "\n",
    "print(f'training samples size: {len(train_features)}'\n",
    "    f'\\ntesting samples size: {len(test_features)}')"
   ],
   "metadata": {
    "collapsed": false,
    "pycharm": {
     "name": "#%%\n"
    }
   }
  },
  {
   "cell_type": "code",
   "execution_count": 4,
   "outputs": [
    {
     "name": "stdout",
     "output_type": "stream",
     "text": [
      "Num GPUs Available:  1\n"
     ]
    }
   ],
   "source": [
    "import tensorflow as tf\n",
    "\n",
    "VOCAB_SIZE = 35000\n",
    "EMBEDDING_DIM = 512\n",
    "MAX_LENGTH = 50\n",
    "\n",
    "print('Num GPUs Available: ', len(tf.config.list_physical_devices('GPU')))"
   ],
   "metadata": {
    "collapsed": false,
    "pycharm": {
     "name": "#%%\n"
    }
   }
  },
  {
   "cell_type": "code",
   "execution_count": 5,
   "outputs": [],
   "source": [
    "vectorize_layer = tf.keras.layers.TextVectorization(\n",
    "    max_tokens=VOCAB_SIZE+2,\n",
    "    output_mode='int',\n",
    "    output_sequence_length=MAX_LENGTH,\n",
    ")\n",
    "vectorize_layer.adapt(train_features)\n",
    "vocab = vectorize_layer.get_vocabulary(include_special_tokens=False)"
   ],
   "metadata": {
    "collapsed": false,
    "pycharm": {
     "name": "#%%\n"
    }
   }
  },
  {
   "cell_type": "code",
   "execution_count": 6,
   "outputs": [
    {
     "name": "stdout",
     "output_type": "stream",
     "text": [
      "GloVe vocab size: 1623397\n"
     ]
    }
   ],
   "source": [
    "from gensim.models import KeyedVectors\n",
    "\n",
    "VECTOR_SIZE = 512\n",
    "glove_file = os.path.join(DATA_DIRECTORY, f'GloVe.Reddit.120B.{VECTOR_SIZE}D.txt')\n",
    "wv_model = KeyedVectors.load_word2vec_format(glove_file)\n",
    "print(f'GloVe vocab size: {len(wv_model)}')"
   ],
   "metadata": {
    "collapsed": false,
    "pycharm": {
     "name": "#%%\n"
    }
   }
  },
  {
   "cell_type": "code",
   "execution_count": 7,
   "outputs": [],
   "source": [
    "embedding_vectors = np.zeros((VOCAB_SIZE, EMBEDDING_DIM))\n",
    "for i, word in enumerate(vocab):\n",
    "    if word in wv_model:\n",
    "        embedding_vectors[i] = wv_model[word]\n",
    "\n",
    "embedding_layer = tf.keras.layers.Embedding(\n",
    "    VOCAB_SIZE, EMBEDDING_DIM,\n",
    "    weights=[embedding_vectors],\n",
    "    input_length=MAX_LENGTH\n",
    ")"
   ],
   "metadata": {
    "collapsed": false,
    "pycharm": {
     "name": "#%%\n"
    }
   }
  },
  {
   "cell_type": "code",
   "execution_count": 8,
   "outputs": [],
   "source": [
    "# model = tf.keras.Sequential([\n",
    "#     vectorize_layer,\n",
    "#     tf.keras.layers.Embedding(VOCAB_SIZE, EMBEDDING_DIM, input_length=MAX_LENGTH),\n",
    "#     tf.keras.layers.SpatialDropout1D(0.4),\n",
    "#     tf.keras.layers.Bidirectional(\n",
    "#         tf.keras.layers.LSTM(units=128, dropout=0.2, return_sequences=True)\n",
    "#     ),\n",
    "#     tf.keras.layers.GlobalMaxPool1D(),\n",
    "#     tf.keras.layers.Dense(units=32, activation='relu'),\n",
    "#     tf.keras.layers.Dropout(0.5),\n",
    "#     tf.keras.layers.Dense(units=16, activation='relu'),\n",
    "#     tf.keras.layers.Dropout(0.5),\n",
    "#     tf.keras.layers.Dense(units=1, activation='sigmoid')\n",
    "# ])\n",
    "# model.compile(loss='binary_crossentropy', optimizer='adam', metrics=['accuracy'])\n",
    "# model.summary()"
   ],
   "metadata": {
    "collapsed": false,
    "pycharm": {
     "name": "#%%\n"
    }
   }
  },
  {
   "cell_type": "code",
   "execution_count": 9,
   "outputs": [
    {
     "name": "stdout",
     "output_type": "stream",
     "text": [
      "Model: \"sequential\"\n",
      "_________________________________________________________________\n",
      " Layer (type)                Output Shape              Param #   \n",
      "=================================================================\n",
      " text_vectorization (TextVec  (None, 50)               0         \n",
      " torization)                                                     \n",
      "                                                                 \n",
      " embedding (Embedding)       (None, 50, 512)           17920000  \n",
      "                                                                 \n",
      " bidirectional (Bidirectiona  (None, 256)              656384    \n",
      " l)                                                              \n",
      "                                                                 \n",
      " dense (Dense)               (None, 1)                 257       \n",
      "                                                                 \n",
      "=================================================================\n",
      "Total params: 18,576,641\n",
      "Trainable params: 18,576,641\n",
      "Non-trainable params: 0\n",
      "_________________________________________________________________\n"
     ]
    }
   ],
   "source": [
    "model = tf.keras.Sequential([\n",
    "    vectorize_layer,\n",
    "    embedding_layer,\n",
    "    # tf.keras.layers.Embedding(VOCAB_SIZE, EMBEDDING_DIM, input_length=MAX_LENGTH),\n",
    "    tf.keras.layers.Bidirectional(\n",
    "        tf.keras.layers.LSTM(units=128, dropout=0.2)\n",
    "    ),\n",
    "    tf.keras.layers.Dense(units=1, activation='sigmoid')\n",
    "])\n",
    "model.compile(loss='binary_crossentropy', optimizer='adam', metrics=['accuracy'])\n",
    "model.summary()"
   ],
   "metadata": {
    "collapsed": false,
    "pycharm": {
     "name": "#%%\n"
    }
   }
  },
  {
   "cell_type": "code",
   "execution_count": 10,
   "outputs": [
    {
     "name": "stdout",
     "output_type": "stream",
     "text": [
      "Epoch 1/25\n",
      "13327/13327 [==============================] - 249s 18ms/step - loss: 0.5565 - accuracy: 0.7107 - val_loss: 0.5311 - val_accuracy: 0.7309\n",
      "Epoch 2/25\n",
      "13327/13327 [==============================] - 237s 18ms/step - loss: 0.4996 - accuracy: 0.7533 - val_loss: 0.5262 - val_accuracy: 0.7377\n",
      "Epoch 3/25\n",
      "13327/13327 [==============================] - 239s 18ms/step - loss: 0.4578 - accuracy: 0.7805 - val_loss: 0.5359 - val_accuracy: 0.7354\n",
      "Epoch 4/25\n",
      "13327/13327 [==============================] - 238s 18ms/step - loss: 0.4195 - accuracy: 0.8031 - val_loss: 0.5571 - val_accuracy: 0.7322\n",
      "Epoch 5/25\n",
      "13327/13327 [==============================] - 238s 18ms/step - loss: 0.3847 - accuracy: 0.8228 - val_loss: 0.5873 - val_accuracy: 0.7290\n"
     ]
    },
    {
     "name": "stderr",
     "output_type": "stream",
     "text": [
      "WARNING:absl:Found untraced functions such as lstm_cell_1_layer_call_fn, lstm_cell_1_layer_call_and_return_conditional_losses, lstm_cell_2_layer_call_fn, lstm_cell_2_layer_call_and_return_conditional_losses, lstm_cell_1_layer_call_fn while saving (showing 5 of 10). These functions will not be directly callable after loading.\n"
     ]
    },
    {
     "name": "stdout",
     "output_type": "stream",
     "text": [
      "INFO:tensorflow:Assets written to: /Users/zanzi/Code/discord-sarcasm-bot/sarcasm_detection/models\\sarcasm_model\\3\\assets\n"
     ]
    },
    {
     "name": "stderr",
     "output_type": "stream",
     "text": [
      "INFO:tensorflow:Assets written to: /Users/zanzi/Code/discord-sarcasm-bot/sarcasm_detection/models\\sarcasm_model\\3\\assets\n",
      "WARNING:absl:<keras.layers.recurrent.LSTMCell object at 0x000002A39BB23D30> has the same name 'LSTMCell' as a built-in Keras object. Consider renaming <class 'keras.layers.recurrent.LSTMCell'> to avoid naming conflicts when loading with `tf.keras.models.load_model`. If renaming is not possible, pass the object in the `custom_objects` parameter of the load function.\n",
      "WARNING:absl:<keras.layers.recurrent.LSTMCell object at 0x000002BAAB362220> has the same name 'LSTMCell' as a built-in Keras object. Consider renaming <class 'keras.layers.recurrent.LSTMCell'> to avoid naming conflicts when loading with `tf.keras.models.load_model`. If renaming is not possible, pass the object in the `custom_objects` parameter of the load function.\n"
     ]
    }
   ],
   "source": [
    "NUM_EPOCHS = 25\n",
    "BATCH_SIZE = 64\n",
    "VERSION = 3\n",
    "\n",
    "callback = tf.keras.callbacks.EarlyStopping(monitor='val_accuracy', patience=3)\n",
    "history = model.fit(\n",
    "    x=train_features, y=train_targets,\n",
    "    epochs=NUM_EPOCHS, batch_size=BATCH_SIZE,\n",
    "    validation_data=(test_features, test_targets),\n",
    "    callbacks=[callback], verbose=1\n",
    ")\n",
    "\n",
    "MODEL_DIRECTORY = os.getenv('MODEL_DIRECTORY')\n",
    "export_path = os.path.join(MODEL_DIRECTORY, 'sarcasm_model', str(VERSION))\n",
    "model.save(export_path)"
   ],
   "metadata": {
    "collapsed": false,
    "pycharm": {
     "name": "#%%\n"
    }
   }
  },
  {
   "cell_type": "code",
   "execution_count": 11,
   "outputs": [
    {
     "data": {
      "text/plain": "<Figure size 432x288 with 1 Axes>",
      "image/png": "[encoded data removed]"
     },
     "metadata": {
      "needs_background": "light"
     },
     "output_type": "display_data"
    },
    {
     "data": {
      "text/plain": "<Figure size 432x288 with 1 Axes>",
      "image/png": "[encoded data removed]"
     },
     "metadata": {
      "needs_background": "light"
     },
     "output_type": "display_data"
    }
   ],
   "source": [
    "import matplotlib.pyplot as plt\n",
    "\n",
    "def plot_graphs(history, string):\n",
    "    plt.plot(history.history[string])\n",
    "    plt.plot(history.history['val_'+string])\n",
    "    plt.xlabel(\"Epochs\")\n",
    "    plt.ylabel(string)\n",
    "    plt.legend([string, 'val_'+string])\n",
    "    plt.show()\n",
    "\n",
    "plot_graphs(history, \"accuracy\")\n",
    "plot_graphs(history, \"loss\")"
   ],
   "metadata": {
    "collapsed": false,
    "pycharm": {
     "name": "#%%\n"
    }
   }
  },
  {
   "cell_type": "code",
   "execution_count": 12,
   "outputs": [
    {
     "name": "stdout",
     "output_type": "stream",
     "text": [
      "0.709530978141077\n"
     ]
    }
   ],
   "source": [
    "from sklearn.metrics import confusion_matrix, accuracy_score\n",
    "\n",
    "probs = model.predict(test_features)\n",
    "pred = np.where(probs > 0.75, 1,0)\n",
    "cm = confusion_matrix(test_targets, pred)\n",
    "print(accuracy_score(test_targets, pred))"
   ],
   "metadata": {
    "collapsed": false,
    "pycharm": {
     "name": "#%%\n"
    }
   }
  },
  {
   "cell_type": "code",
   "execution_count": 13,
   "outputs": [
    {
     "data": {
      "text/plain": "<AxesSubplot:>"
     },
     "execution_count": 13,
     "metadata": {},
     "output_type": "execute_result"
    },
    {
     "data": {
      "text/plain": "<Figure size 720x720 with 2 Axes>",
      "image/png": "[encoded data removed]"
     },
     "metadata": {
      "needs_background": "light"
     },
     "output_type": "display_data"
    }
   ],
   "source": [
    "import pandas as pd\n",
    "import seaborn as sns\n",
    "\n",
    "cm = pd.DataFrame(\n",
    "    data=cm,\n",
    "    index=['Not Sarcastic','Sarcastic'],\n",
    "    columns=['Not Sarcastic','Sarcastic']\n",
    ")\n",
    "plt.figure(figsize = (10,10))\n",
    "sns.heatmap(\n",
    "    data=cm, cmap=\"Blues\", linecolor='black',\n",
    "    linewidth=1, annot=True, fmt='',\n",
    "    xticklabels = ['Not Sarcastic','Sarcastic'],\n",
    "    yticklabels = ['Not Sarcastic','Sarcastic']\n",
    ")"
   ],
   "metadata": {
    "collapsed": false,
    "pycharm": {
     "name": "#%%\n"
    }
   }
  },
  {
   "cell_type": "code",
   "execution_count": 13,
   "outputs": [],
   "source": [],
   "metadata": {
    "collapsed": false,
    "pycharm": {
     "name": "#%%\n"
    }
   }
  }
 ],
 "metadata": {
  "kernelspec": {
   "display_name": "Python 3",
   "language": "python",
   "name": "python3"
  },
  "language_info": {
   "codemirror_mode": {
    "name": "ipython",
    "version": 2
   },
   "file_extension": ".py",
   "mimetype": "text/x-python",
   "name": "python",
   "nbconvert_exporter": "python",
   "pygments_lexer": "ipython2",
   "version": "2.7.6"
  }
 },
 "nbformat": 4,
 "nbformat_minor": 0
}