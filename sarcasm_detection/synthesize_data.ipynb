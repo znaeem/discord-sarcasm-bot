{
 "cells": [
  {
   "cell_type": "code",
   "execution_count": 1,
   "metadata": {
    "collapsed": true
   },
   "outputs": [],
   "source": [
    "import json\n",
    "import csv\n",
    "import random\n",
    "import os\n",
    "from dotenv import load_dotenv"
   ]
  },
  {
   "cell_type": "code",
   "execution_count": 2,
   "outputs": [],
   "source": [
    "data_store = []\n",
    "\n",
    "load_dotenv()\n",
    "\n",
    "DATA_DIRECTORY = os.getenv('DATA_DIRECTORY')\n",
    "REDDIT_DATA_PATH = DATA_DIRECTORY + '/raw_data/reddit/train-balanced-sarcasm.csv'\n",
    "HEADLINE1_DATA_PATH = DATA_DIRECTORY + '/raw_data/headline/Sarcasm_Headlines_Dataset.json'\n",
    "HEADLINE2_DATA_PATH = DATA_DIRECTORY + '/raw_data/headline/Sarcasm_Headlines_Dataset_v2.json'"
   ],
   "metadata": {
    "collapsed": false,
    "pycharm": {
     "name": "#%%\n"
    }
   }
  },
  {
   "cell_type": "code",
   "execution_count": 3,
   "outputs": [],
   "source": [
    "def parse_csv(file):\n",
    "    file = open(file)\n",
    "    csvreader = csv.reader(file)\n",
    "    _ = next(csvreader)\n",
    "    for row in csvreader:\n",
    "        yield row\n",
    "    file.close()\n",
    "\n",
    "reddit_data = list(parse_csv(REDDIT_DATA_PATH))\n",
    "\n",
    "for item in reddit_data:\n",
    "    data_store.append([item[1], int(item[0]), 'reddit'])"
   ],
   "metadata": {
    "collapsed": false,
    "pycharm": {
     "name": "#%%\n"
    }
   }
  },
  {
   "cell_type": "code",
   "execution_count": 4,
   "outputs": [],
   "source": [
    "def parse_data(file):\n",
    "    for l in open(file,'r'):\n",
    "        yield json.loads(l)\n",
    "\n",
    "headline_data = list(parse_data(HEADLINE1_DATA_PATH))\n",
    "headline_data += list(parse_data(HEADLINE2_DATA_PATH))\n",
    "\n",
    "for item in headline_data:\n",
    "    data_store.append([item['headline'], int(item['is_sarcastic']), 'headline'])"
   ],
   "metadata": {
    "collapsed": false,
    "pycharm": {
     "name": "#%%\n"
    }
   }
  },
  {
   "cell_type": "code",
   "execution_count": 5,
   "outputs": [],
   "source": [
    "header = ['sentence', 'label', 'source']\n",
    "random.shuffle(data_store)\n",
    "\n",
    "SYNTHESIZED_DATA_PATH = DATA_DIRECTORY + '/data.csv'\n",
    "\n",
    "with open(SYNTHESIZED_DATA_PATH, 'w', encoding='utf-8', newline='') as f:\n",
    "    writer = csv.writer(f)\n",
    "    writer.writerow(header)\n",
    "    writer.writerows(data_store)"
   ],
   "metadata": {
    "collapsed": false,
    "pycharm": {
     "name": "#%%\n"
    }
   }
  },
  {
   "cell_type": "code",
   "execution_count": 5,
   "outputs": [],
   "source": [],
   "metadata": {
    "collapsed": false,
    "pycharm": {
     "name": "#%%\n"
    }
   }
  }
 ],
 "metadata": {
  "kernelspec": {
   "display_name": "Python 3",
   "language": "python",
   "name": "python3"
  },
  "language_info": {
   "codemirror_mode": {
    "name": "ipython",
    "version": 2
   },
   "file_extension": ".py",
   "mimetype": "text/x-python",
   "name": "python",
   "nbconvert_exporter": "python",
   "pygments_lexer": "ipython2",
   "version": "2.7.6"
  }
 },
 "nbformat": 4,
 "nbformat_minor": 0
}